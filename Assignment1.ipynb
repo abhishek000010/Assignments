{
 "cells": [
  {
   "cell_type": "code",
   "execution_count": null,
   "id": "34420976-6030-44be-a3b4-61e111b4438f",
   "metadata": {},
   "outputs": [],
   "source": [
    "Q1 -> who developed python programming language?\n",
    "\n",
    "Ans ->Guido van Rossum "
   ]
  },
  {
   "cell_type": "code",
   "execution_count": null,
   "id": "c509dbec-ad35-4c0e-a550-a92605f60418",
   "metadata": {},
   "outputs": [],
   "source": [
    "Q2 -> what type of programming does python support?\n",
    "\n",
    "Ans -> 1) functional programming -> in this we can make funciton and use inbuilt funciton as well\n",
    "       2) Oops -> Object oriented Programming language in this we use object and classes majorily\n",
    "       3) python is also a scripted language and it is like just writting english lang. "
   ]
  },
  {
   "cell_type": "code",
   "execution_count": null,
   "id": "0014a436-acba-4ad0-89b1-1b084da0ac28",
   "metadata": {},
   "outputs": [],
   "source": [
    "Q3 -> Is python case sensitive when dealing with identifiers?\n",
    "\n",
    "Ans -> yes python is a case sensitive language like when we are making class but by mistake we have write class c in capital then\n",
    "it is not going to consider Class -> this as a class."
   ]
  },
  {
   "cell_type": "code",
   "execution_count": null,
   "id": "4956237d-f97c-48b9-ae32-6c1b0c770cb5",
   "metadata": {},
   "outputs": [],
   "source": [
    "Q4 -> What is the correct extension of the python file?\n",
    "\n",
    "Ans -> .py "
   ]
  },
  {
   "cell_type": "code",
   "execution_count": null,
   "id": "a75b537c-c7ea-47d8-bd38-026c234c0e6f",
   "metadata": {},
   "outputs": [],
   "source": [
    "Q5 -> Is python code compiled or interpreted?\n",
    "\n",
    "Ans -> Python is not a compiled language it is an interpreted language."
   ]
  },
  {
   "cell_type": "code",
   "execution_count": null,
   "id": "c339e2a6-71ba-4c86-bda8-04ae6a0cfe8e",
   "metadata": {},
   "outputs": [],
   "source": [
    "Q6 -> Name a few blocks of code used to define in python language?\n",
    "\n",
    "Ans -> only identation is used in python as a block"
   ]
  },
  {
   "cell_type": "code",
   "execution_count": null,
   "id": "5f6f42fd-3caf-47a2-873c-7babb356d483",
   "metadata": {},
   "outputs": [],
   "source": [
    "Q7 -> state a character used to give a single line comment in python?\n",
    "\n",
    "Ans -> # character or cltr + /"
   ]
  },
  {
   "cell_type": "code",
   "execution_count": null,
   "id": "4eabe6c0-c79f-4196-a06a-b9658da660cc",
   "metadata": {},
   "outputs": [],
   "source": [
    "Q8 -> Mention funcitons which can help us to find the version which we are using currently on?\n",
    "\n",
    "Ans-> python_version() or if we have download and set the path of the python in our system just writting python --version in \n",
    "command prompt"
   ]
  },
  {
   "cell_type": "raw",
   "id": "83aaf724-1d13-4ec2-9d74-08eea5262b95",
   "metadata": {},
   "source": [
    "Q9 -> python supports the creation of anonymous functions at runtime , using a construction called?\n",
    "\n",
    "Ans -> we use lambda function on that case."
   ]
  },
  {
   "cell_type": "code",
   "execution_count": null,
   "id": "3a47ee84-3e1a-4be4-af8e-f4d3edb0075a",
   "metadata": {},
   "outputs": [],
   "source": [
    "Q10 -> What does pip stands for?\n",
    "\n",
    "Ans -> preferred installer program"
   ]
  },
  {
   "cell_type": "code",
   "execution_count": null,
   "id": "686b1538-d36c-4791-abe5-efde8fb1831b",
   "metadata": {},
   "outputs": [],
   "source": [
    "Q11 -> Mention a few builin funciton in python?\n",
    "\n",
    "Ans -> dict() , chr(), bytes() , len() , str()."
   ]
  },
  {
   "cell_type": "code",
   "execution_count": null,
   "id": "4187fc34-6cfb-4a6c-8468-859a9d4db226",
   "metadata": {},
   "outputs": [],
   "source": [
    "Q12 -> what is the maximum possible length of an identifier?\n",
    " \n",
    "Ans -> 79 characters"
   ]
  },
  {
   "cell_type": "code",
   "execution_count": null,
   "id": "50ed9e1b-158f-46f3-ab2c-e625ad541928",
   "metadata": {},
   "outputs": [],
   "source": [
    "Q13 -> What are benefits of using python?\n",
    "\n",
    "Ans -> 1) It helps in game development\n",
    "       2) Application development\n",
    "       3) DataScience industries \n",
    "       4) Web development"
   ]
  },
  {
   "cell_type": "code",
   "execution_count": null,
   "id": "4469e5a3-2a8e-4321-9a9b-42ce22e85bb9",
   "metadata": {},
   "outputs": [],
   "source": [
    "Q14 -> How is memory managed in python?\n",
    "\n",
    "Ans -> In python it have a private heap concept. It stores all the data structure , memory and objects int the private heap. "
   ]
  },
  {
   "cell_type": "code",
   "execution_count": null,
   "id": "b66bc190-3a82-4faa-8bd2-bf6119c87c7b",
   "metadata": {},
   "outputs": [],
   "source": [
    "Q15 -> How to install python on windows and set path variable?\n",
    "\n",
    "Ans -> Installation \n",
    "        1) Open a browser to the Python website and download the Windows installer.\n",
    "        2) Double click on the downloaded file and install Python for all users.\n",
    "        3) After the installation is complete, click Disable path length limit.\n",
    "        4) Click Close to end the installation.\n",
    "        \n",
    "        There is a option while installing the pyhont setup to set the path variable but you can do it by your self as well\n",
    "    -> setup Path variable\n",
    "        1) Right-clicking This PC and going to Properties.\n",
    "        2) Clicking on the Advanced system settings in the menu on the left.\n",
    "        3) Clicking on the Environment Variables button on the bottom right.\n",
    "        4) In the System variables section, selecting the Path variable and clicking on Edit. The next screen will show all the directories that are currently a part of the PATH variable.\n",
    "        5) Clicking on New and entering Python’s install directory.\n",
    "        \n",
    "        After setup the path variable just go to command prompt and check for python version for confirmation\n",
    "        By writtion python --verion on command prompt\n",
    "        "
   ]
  },
  {
   "cell_type": "code",
   "execution_count": null,
   "id": "3a7abb97-581c-4449-b40e-0085628cf325",
   "metadata": {},
   "outputs": [],
   "source": [
    "Q16 -> Is identation required in python>\n",
    "Ans -> Yes identation is must required in python because without identation code you will end up seeing IndentationError and code will not be compiled\n",
    "        Lets suppose you writting a code without identation \n",
    "        marks = 70\n",
    "        if marks >= 60:\n",
    "        print(\"you are considered as pass\")\n",
    "    \n",
    "        Well this above code will give you error because you have not write the code properly you have to give white spaces before print \n",
    "        Like this\n",
    "        -> \n",
    "        marks = 70\n",
    "        if marks >= 60:\n",
    "            print(\"you are considered as pass\")\n",
    "        This code will not give you error though."
   ]
  }
 ],
 "metadata": {
  "kernelspec": {
   "display_name": "Python 3 (ipykernel)",
   "language": "python",
   "name": "python3"
  },
  "language_info": {
   "codemirror_mode": {
    "name": "ipython",
    "version": 3
   },
   "file_extension": ".py",
   "mimetype": "text/x-python",
   "name": "python",
   "nbconvert_exporter": "python",
   "pygments_lexer": "ipython3",
   "version": "3.10.8"
  }
 },
 "nbformat": 4,
 "nbformat_minor": 5
}
